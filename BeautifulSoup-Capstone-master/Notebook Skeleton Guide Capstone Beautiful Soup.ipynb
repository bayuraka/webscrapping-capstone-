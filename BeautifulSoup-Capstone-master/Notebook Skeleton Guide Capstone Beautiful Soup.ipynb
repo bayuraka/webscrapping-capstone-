{
 "cells": [
  {
   "cell_type": "markdown",
   "metadata": {},
   "source": [
    "# Capstone Webscrapping using BeautifulSoup\n",
    "\n",
    "This notebook contains guidances & tasks on the data processing for the application\n",
    "\n",
    "(Please insert the background here )\n",
    "\n",
    "\n",
    "## Requesting the Data and Creating a BeautifulSoup\n",
    "\n",
    "Let's begin with requesting the web from the site with `get` method."
   ]
  },
  {
   "cell_type": "code",
   "execution_count": 75,
   "metadata": {
    "ExecuteTime": {
     "end_time": "2020-01-13T05:12:23.275508Z",
     "start_time": "2020-01-13T05:12:20.009898Z"
    }
   },
   "outputs": [],
   "source": [
    "import requests\n",
    "\n",
    "url_get = requests.get('https://www.exchange-rates.org/history/IDR/USD/T')"
   ]
  },
  {
   "cell_type": "markdown",
   "metadata": {},
   "source": [
    "To visualize what exactly you get from the `request.get`, we can use .content so ee what we exactly get, in here i slice it so it won't make our screen full of the html we get from the page. You can delete the slicing if you want to see what we fully get."
   ]
  },
  {
   "cell_type": "code",
   "execution_count": 76,
   "metadata": {
    "ExecuteTime": {
     "end_time": "2020-01-13T05:12:23.290648Z",
     "start_time": "2020-01-13T05:12:23.277650Z"
    }
   },
   "outputs": [
    {
     "data": {
      "text/plain": [
       "b'\\n<!DOCTYPE html>\\r\\n<!--[if lt IE 9]>\\r\\n    <html class=\"no-js ie8 oldie\" lang=\\'en\\' xml:lang=\\'en\\'>\\r\\n<![endif]-->\\r\\n<!--[if gt IE 8]><!--> <html class=\"no-js\" lang=\\'en\\' xml:lang=\\'en\\'> <!--<![endif]-->\\r\\n<head><title>Indonesian Rupiah Exchange Rate - US Dollar - Historical Exchange Rates</title>\\n<meta http-equiv=\"X-UA-Compatible\" content=\"IE=edge\">\\n<meta content=\"C#\" name=\"CODE_LANGUAGE\" />\\n<meta content=\"JavaScript\" name=\"vs_defaultClientScript\" />\\n<meta content=\"http://schemas.microsoft.com/intellis'"
      ]
     },
     "execution_count": 76,
     "metadata": {},
     "output_type": "execute_result"
    }
   ],
   "source": [
    "url_get.content[1:500]"
   ]
  },
  {
   "cell_type": "markdown",
   "metadata": {},
   "source": [
    "As we can see we get a very unstructured and complex html, which actually contains the codes needed to show the webpages on your web browser. But we as human still confused what and where we can use that piece of code, so here where we use the beautifulsoup. Beautiful soup class will result a beautifulsoup object. Beautiful Soup transforms a complex HTML document into a complex tree of Python objects. \n",
    "\n",
    "Let's make Beautiful soup object and feel free to explore the object here."
   ]
  },
  {
   "cell_type": "code",
   "execution_count": 77,
   "metadata": {
    "ExecuteTime": {
     "end_time": "2020-01-13T05:12:23.808122Z",
     "start_time": "2020-01-13T05:12:23.292610Z"
    }
   },
   "outputs": [
    {
     "name": "stdout",
     "output_type": "stream",
     "text": [
      "<class 'bs4.BeautifulSoup'>\n"
     ]
    }
   ],
   "source": [
    "from bs4 import BeautifulSoup \n",
    "\n",
    "soup = BeautifulSoup(url_get.content,\"html.parser\")\n",
    "print(type(soup))"
   ]
  },
  {
   "cell_type": "markdown",
   "metadata": {},
   "source": [
    "## Finding the right key to scrap the data & Extracting the right information"
   ]
  },
  {
   "cell_type": "markdown",
   "metadata": {},
   "source": [
    "Find the key and put the key into the `.find()` Put all the exploring the right key at this cell. (please change this markdown with your explanation)"
   ]
  },
  {
   "cell_type": "code",
   "execution_count": 78,
   "metadata": {
    "ExecuteTime": {
     "end_time": "2020-01-13T05:12:23.878904Z",
     "start_time": "2020-01-13T05:12:23.854974Z"
    },
    "scrolled": true
   },
   "outputs": [
    {
     "name": "stdout",
     "output_type": "stream",
     "text": [
      "table class=\"table table-striped table-hover table-hover-solid-row table-simple history-data\">\n",
      " <tbody>\n",
      "  <tr>\n",
      "   <td>\n",
      "    3/5/2021\n",
      "   </td>\n",
      "   <td>\n",
      "    Friday\n",
      "   </td>\n",
      "   <td>\n",
      "    <a href=\"/Rate/USD/IDR/3-5-2021\">\n",
      "     14,292.17893\n",
      "    </a>\n",
      "    IDR\n",
      "   </td>\n",
      "   <td class=\"text-narrow-screen-hidden\"\n"
     ]
    }
   ],
   "source": [
    "table = soup.find('table', attrs={'class':'table table-striped table-hover table-hover-solid-row table-simple history-data'})\n",
    "print(table.prettify()[1:300])"
   ]
  },
  {
   "cell_type": "code",
   "execution_count": 79,
   "metadata": {},
   "outputs": [
    {
     "data": {
      "text/plain": [
       "[<tr><td>3/5/2021</td><td>Friday</td><td><a href=\"/Rate/USD/IDR/3-5-2021\">14,292.17893</a> IDR</td><td class=\"text-narrow-screen-hidden\"><a href=\"/Rate/USD/IDR/3-5-2021\">USD IDR rate for 3/5/2021</a></td></tr>,\n",
       " <tr><td>3/4/2021</td><td>Thursday</td><td><a href=\"/Rate/USD/IDR/3-4-2021\">14,261.85426</a> IDR</td><td class=\"text-narrow-screen-hidden\"><a href=\"/Rate/USD/IDR/3-4-2021\">USD IDR rate for 3/4/2021</a></td></tr>,\n",
       " <tr><td>3/3/2021</td><td>Wednesday</td><td><a href=\"/Rate/USD/IDR/3-3-2021\">14,257.29443</a> IDR</td><td class=\"text-narrow-screen-hidden\"><a href=\"/Rate/USD/IDR/3-3-2021\">USD IDR rate for 3/3/2021</a></td></tr>,\n",
       " <tr><td>3/2/2021</td><td>Tuesday</td><td><a href=\"/Rate/USD/IDR/3-2-2021\">14,256.28041</a> IDR</td><td class=\"text-narrow-screen-hidden\"><a href=\"/Rate/USD/IDR/3-2-2021\">USD IDR rate for 3/2/2021</a></td></tr>,\n",
       " <tr><td>3/1/2021</td><td>Monday</td><td><a href=\"/Rate/USD/IDR/3-1-2021\">14,248.60576</a> IDR</td><td class=\"text-narrow-screen-hidden\"><a href=\"/Rate/USD/IDR/3-1-2021\">USD IDR rate for 3/1/2021</a></td></tr>,\n",
       " <tr><td>2/26/2021</td><td>Friday</td><td><a href=\"/Rate/USD/IDR/2-26-2021\">14,300.27815</a> IDR</td><td class=\"text-narrow-screen-hidden\"><a href=\"/Rate/USD/IDR/2-26-2021\">USD IDR rate for 2/26/2021</a></td></tr>,\n",
       " <tr><td>2/25/2021</td><td>Thursday</td><td><a href=\"/Rate/USD/IDR/2-25-2021\">14,139.73096</a> IDR</td><td class=\"text-narrow-screen-hidden\"><a href=\"/Rate/USD/IDR/2-25-2021\">USD IDR rate for 2/25/2021</a></td></tr>,\n",
       " <tr><td>2/24/2021</td><td>Wednesday</td><td><a href=\"/Rate/USD/IDR/2-24-2021\">14,083.03673</a> IDR</td><td class=\"text-narrow-screen-hidden\"><a href=\"/Rate/USD/IDR/2-24-2021\">USD IDR rate for 2/24/2021</a></td></tr>,\n",
       " <tr><td>2/23/2021</td><td>Tuesday</td><td><a href=\"/Rate/USD/IDR/2-23-2021\">14,092.64503</a> IDR</td><td class=\"text-narrow-screen-hidden\"><a href=\"/Rate/USD/IDR/2-23-2021\">USD IDR rate for 2/23/2021</a></td></tr>,\n",
       " <tr><td>2/22/2021</td><td>Monday</td><td><a href=\"/Rate/USD/IDR/2-22-2021\">14,118.07274</a> IDR</td><td class=\"text-narrow-screen-hidden\"><a href=\"/Rate/USD/IDR/2-22-2021\">USD IDR rate for 2/22/2021</a></td></tr>,\n",
       " <tr><td>2/19/2021</td><td>Friday</td><td><a href=\"/Rate/USD/IDR/2-19-2021\">14,066.79375</a> IDR</td><td class=\"text-narrow-screen-hidden\"><a href=\"/Rate/USD/IDR/2-19-2021\">USD IDR rate for 2/19/2021</a></td></tr>,\n",
       " <tr><td>2/18/2021</td><td>Thursday</td><td><a href=\"/Rate/USD/IDR/2-18-2021\">14,013.51318</a> IDR</td><td class=\"text-narrow-screen-hidden\"><a href=\"/Rate/USD/IDR/2-18-2021\">USD IDR rate for 2/18/2021</a></td></tr>,\n",
       " <tr><td>2/17/2021</td><td>Wednesday</td><td><a href=\"/Rate/USD/IDR/2-17-2021\">14,015.16095</a> IDR</td><td class=\"text-narrow-screen-hidden\"><a href=\"/Rate/USD/IDR/2-17-2021\">USD IDR rate for 2/17/2021</a></td></tr>,\n",
       " <tr><td>2/16/2021</td><td>Tuesday</td><td><a href=\"/Rate/USD/IDR/2-16-2021\">13,935.96629</a> IDR</td><td class=\"text-narrow-screen-hidden\"><a href=\"/Rate/USD/IDR/2-16-2021\">USD IDR rate for 2/16/2021</a></td></tr>,\n",
       " <tr><td>2/15/2021</td><td>Monday</td><td><a href=\"/Rate/USD/IDR/2-15-2021\">13,918.18725</a> IDR</td><td class=\"text-narrow-screen-hidden\"><a href=\"/Rate/USD/IDR/2-15-2021\">USD IDR rate for 2/15/2021</a></td></tr>,\n",
       " <tr><td>2/12/2021</td><td>Friday</td><td><a href=\"/Rate/USD/IDR/2-12-2021\">13,988.54710</a> IDR</td><td class=\"text-narrow-screen-hidden\"><a href=\"/Rate/USD/IDR/2-12-2021\">USD IDR rate for 2/12/2021</a></td></tr>,\n",
       " <tr><td>2/11/2021</td><td>Thursday</td><td><a href=\"/Rate/USD/IDR/2-11-2021\">13,982.27900</a> IDR</td><td class=\"text-narrow-screen-hidden\"><a href=\"/Rate/USD/IDR/2-11-2021\">USD IDR rate for 2/11/2021</a></td></tr>,\n",
       " <tr><td>2/10/2021</td><td>Wednesday</td><td><a href=\"/Rate/USD/IDR/2-10-2021\">13,994.09212</a> IDR</td><td class=\"text-narrow-screen-hidden\"><a href=\"/Rate/USD/IDR/2-10-2021\">USD IDR rate for 2/10/2021</a></td></tr>,\n",
       " <tr><td>2/9/2021</td><td>Tuesday</td><td><a href=\"/Rate/USD/IDR/2-9-2021\">13,920.52018</a> IDR</td><td class=\"text-narrow-screen-hidden\"><a href=\"/Rate/USD/IDR/2-9-2021\">USD IDR rate for 2/9/2021</a></td></tr>,\n",
       " <tr><td>2/8/2021</td><td>Monday</td><td><a href=\"/Rate/USD/IDR/2-8-2021\">14,007.25257</a> IDR</td><td class=\"text-narrow-screen-hidden\"><a href=\"/Rate/USD/IDR/2-8-2021\">USD IDR rate for 2/8/2021</a></td></tr>,\n",
       " <tr><td>2/5/2021</td><td>Friday</td><td><a href=\"/Rate/USD/IDR/2-5-2021\">14,008.99630</a> IDR</td><td class=\"text-narrow-screen-hidden\"><a href=\"/Rate/USD/IDR/2-5-2021\">USD IDR rate for 2/5/2021</a></td></tr>,\n",
       " <tr><td>2/4/2021</td><td>Thursday</td><td><a href=\"/Rate/USD/IDR/2-4-2021\">14,020.87878</a> IDR</td><td class=\"text-narrow-screen-hidden\"><a href=\"/Rate/USD/IDR/2-4-2021\">USD IDR rate for 2/4/2021</a></td></tr>,\n",
       " <tr><td>2/3/2021</td><td>Wednesday</td><td><a href=\"/Rate/USD/IDR/2-3-2021\">13,997.60682</a> IDR</td><td class=\"text-narrow-screen-hidden\"><a href=\"/Rate/USD/IDR/2-3-2021\">USD IDR rate for 2/3/2021</a></td></tr>,\n",
       " <tr><td>2/2/2021</td><td>Tuesday</td><td><a href=\"/Rate/USD/IDR/2-2-2021\">14,004.60175</a> IDR</td><td class=\"text-narrow-screen-hidden\"><a href=\"/Rate/USD/IDR/2-2-2021\">USD IDR rate for 2/2/2021</a></td></tr>,\n",
       " <tr><td>2/1/2021</td><td>Monday</td><td><a href=\"/Rate/USD/IDR/2-1-2021\">14,025.27450</a> IDR</td><td class=\"text-narrow-screen-hidden\"><a href=\"/Rate/USD/IDR/2-1-2021\">USD IDR rate for 2/1/2021</a></td></tr>,\n",
       " <tr><td>1/29/2021</td><td>Friday</td><td><a href=\"/Rate/USD/IDR/1-29-2021\">14,027.32457</a> IDR</td><td class=\"text-narrow-screen-hidden\"><a href=\"/Rate/USD/IDR/1-29-2021\">USD IDR rate for 1/29/2021</a></td></tr>,\n",
       " <tr><td>1/28/2021</td><td>Thursday</td><td><a href=\"/Rate/USD/IDR/1-28-2021\">14,048.06146</a> IDR</td><td class=\"text-narrow-screen-hidden\"><a href=\"/Rate/USD/IDR/1-28-2021\">USD IDR rate for 1/28/2021</a></td></tr>,\n",
       " <tr><td>1/27/2021</td><td>Wednesday</td><td><a href=\"/Rate/USD/IDR/1-27-2021\">14,048.72649</a> IDR</td><td class=\"text-narrow-screen-hidden\"><a href=\"/Rate/USD/IDR/1-27-2021\">USD IDR rate for 1/27/2021</a></td></tr>,\n",
       " <tr><td>1/26/2021</td><td>Tuesday</td><td><a href=\"/Rate/USD/IDR/1-26-2021\">14,062.91108</a> IDR</td><td class=\"text-narrow-screen-hidden\"><a href=\"/Rate/USD/IDR/1-26-2021\">USD IDR rate for 1/26/2021</a></td></tr>,\n",
       " <tr><td>1/25/2021</td><td>Monday</td><td><a href=\"/Rate/USD/IDR/1-25-2021\">14,021.11609</a> IDR</td><td class=\"text-narrow-screen-hidden\"><a href=\"/Rate/USD/IDR/1-25-2021\">USD IDR rate for 1/25/2021</a></td></tr>,\n",
       " <tr><td>1/22/2021</td><td>Friday</td><td><a href=\"/Rate/USD/IDR/1-22-2021\">14,025.60268</a> IDR</td><td class=\"text-narrow-screen-hidden\"><a href=\"/Rate/USD/IDR/1-22-2021\">USD IDR rate for 1/22/2021</a></td></tr>,\n",
       " <tr><td>1/21/2021</td><td>Thursday</td><td><a href=\"/Rate/USD/IDR/1-21-2021\">13,964.91920</a> IDR</td><td class=\"text-narrow-screen-hidden\"><a href=\"/Rate/USD/IDR/1-21-2021\">USD IDR rate for 1/21/2021</a></td></tr>,\n",
       " <tr><td>1/20/2021</td><td>Wednesday</td><td><a href=\"/Rate/USD/IDR/1-20-2021\">14,021.43046</a> IDR</td><td class=\"text-narrow-screen-hidden\"><a href=\"/Rate/USD/IDR/1-20-2021\">USD IDR rate for 1/20/2021</a></td></tr>,\n",
       " <tr><td>1/19/2021</td><td>Tuesday</td><td><a href=\"/Rate/USD/IDR/1-19-2021\">14,063.60877</a> IDR</td><td class=\"text-narrow-screen-hidden\"><a href=\"/Rate/USD/IDR/1-19-2021\">USD IDR rate for 1/19/2021</a></td></tr>,\n",
       " <tr><td>1/18/2021</td><td>Monday</td><td><a href=\"/Rate/USD/IDR/1-18-2021\">14,055.43768</a> IDR</td><td class=\"text-narrow-screen-hidden\"><a href=\"/Rate/USD/IDR/1-18-2021\">USD IDR rate for 1/18/2021</a></td></tr>,\n",
       " <tr><td>1/15/2021</td><td>Friday</td><td><a href=\"/Rate/USD/IDR/1-15-2021\">14,153.46654</a> IDR</td><td class=\"text-narrow-screen-hidden\"><a href=\"/Rate/USD/IDR/1-15-2021\">USD IDR rate for 1/15/2021</a></td></tr>,\n",
       " <tr><td>1/14/2021</td><td>Thursday</td><td><a href=\"/Rate/USD/IDR/1-14-2021\">14,070.58746</a> IDR</td><td class=\"text-narrow-screen-hidden\"><a href=\"/Rate/USD/IDR/1-14-2021\">USD IDR rate for 1/14/2021</a></td></tr>,\n",
       " <tr><td>1/13/2021</td><td>Wednesday</td><td><a href=\"/Rate/USD/IDR/1-13-2021\">14,125.90174</a> IDR</td><td class=\"text-narrow-screen-hidden\"><a href=\"/Rate/USD/IDR/1-13-2021\">USD IDR rate for 1/13/2021</a></td></tr>,\n",
       " <tr><td>1/12/2021</td><td>Tuesday</td><td><a href=\"/Rate/USD/IDR/1-12-2021\">14,074.81444</a> IDR</td><td class=\"text-narrow-screen-hidden\"><a href=\"/Rate/USD/IDR/1-12-2021\">USD IDR rate for 1/12/2021</a></td></tr>,\n",
       " <tr><td>1/11/2021</td><td>Monday</td><td><a href=\"/Rate/USD/IDR/1-11-2021\">14,137.24151</a> IDR</td><td class=\"text-narrow-screen-hidden\"><a href=\"/Rate/USD/IDR/1-11-2021\">USD IDR rate for 1/11/2021</a></td></tr>,\n",
       " <tr><td>1/8/2021</td><td>Friday</td><td><a href=\"/Rate/USD/IDR/1-8-2021\">13,991.16348</a> IDR</td><td class=\"text-narrow-screen-hidden\"><a href=\"/Rate/USD/IDR/1-8-2021\">USD IDR rate for 1/8/2021</a></td></tr>,\n",
       " <tr><td>1/7/2021</td><td>Thursday</td><td><a href=\"/Rate/USD/IDR/1-7-2021\">13,905.64377</a> IDR</td><td class=\"text-narrow-screen-hidden\"><a href=\"/Rate/USD/IDR/1-7-2021\">USD IDR rate for 1/7/2021</a></td></tr>,\n",
       " <tr><td>1/6/2021</td><td>Wednesday</td><td><a href=\"/Rate/USD/IDR/1-6-2021\">13,861.51463</a> IDR</td><td class=\"text-narrow-screen-hidden\"><a href=\"/Rate/USD/IDR/1-6-2021\">USD IDR rate for 1/6/2021</a></td></tr>,\n",
       " <tr><td>1/5/2021</td><td>Tuesday</td><td><a href=\"/Rate/USD/IDR/1-5-2021\">13,906.05686</a> IDR</td><td class=\"text-narrow-screen-hidden\"><a href=\"/Rate/USD/IDR/1-5-2021\">USD IDR rate for 1/5/2021</a></td></tr>,\n",
       " <tr><td>1/4/2021</td><td>Monday</td><td><a href=\"/Rate/USD/IDR/1-4-2021\">14,015.86887</a> IDR</td><td class=\"text-narrow-screen-hidden\"><a href=\"/Rate/USD/IDR/1-4-2021\">USD IDR rate for 1/4/2021</a></td></tr>,\n",
       " <tr><td>1/1/2021</td><td>Friday</td><td><a href=\"/Rate/USD/IDR/1-1-2021\">14,213.67526</a> IDR</td><td class=\"text-narrow-screen-hidden\"><a href=\"/Rate/USD/IDR/1-1-2021\">USD IDR rate for 1/1/2021</a></td></tr>,\n",
       " <tr><td>12/31/2020</td><td>Thursday</td><td><a href=\"/Rate/USD/IDR/12-31-2020\">14,120.57461</a> IDR</td><td class=\"text-narrow-screen-hidden\"><a href=\"/Rate/USD/IDR/12-31-2020\">USD IDR rate for 12/31/2020</a></td></tr>,\n",
       " <tr><td>12/30/2020</td><td>Wednesday</td><td><a href=\"/Rate/USD/IDR/12-30-2020\">14,020.01350</a> IDR</td><td class=\"text-narrow-screen-hidden\"><a href=\"/Rate/USD/IDR/12-30-2020\">USD IDR rate for 12/30/2020</a></td></tr>,\n",
       " <tr><td>12/29/2020</td><td>Tuesday</td><td><a href=\"/Rate/USD/IDR/12-29-2020\">14,108.18177</a> IDR</td><td class=\"text-narrow-screen-hidden\"><a href=\"/Rate/USD/IDR/12-29-2020\">USD IDR rate for 12/29/2020</a></td></tr>,\n",
       " <tr><td>12/28/2020</td><td>Monday</td><td><a href=\"/Rate/USD/IDR/12-28-2020\">14,139.81753</a> IDR</td><td class=\"text-narrow-screen-hidden\"><a href=\"/Rate/USD/IDR/12-28-2020\">USD IDR rate for 12/28/2020</a></td></tr>,\n",
       " <tr><td>12/25/2020</td><td>Friday</td><td><a href=\"/Rate/USD/IDR/12-25-2020\">14,211.65343</a> IDR</td><td class=\"text-narrow-screen-hidden\"><a href=\"/Rate/USD/IDR/12-25-2020\">USD IDR rate for 12/25/2020</a></td></tr>,\n",
       " <tr><td>12/24/2020</td><td>Thursday</td><td><a href=\"/Rate/USD/IDR/12-24-2020\">14,188.41293</a> IDR</td><td class=\"text-narrow-screen-hidden\"><a href=\"/Rate/USD/IDR/12-24-2020\">USD IDR rate for 12/24/2020</a></td></tr>,\n",
       " <tr><td>12/23/2020</td><td>Wednesday</td><td><a href=\"/Rate/USD/IDR/12-23-2020\">14,183.64082</a> IDR</td><td class=\"text-narrow-screen-hidden\"><a href=\"/Rate/USD/IDR/12-23-2020\">USD IDR rate for 12/23/2020</a></td></tr>,\n",
       " <tr><td>12/22/2020</td><td>Tuesday</td><td><a href=\"/Rate/USD/IDR/12-22-2020\">14,164.98134</a> IDR</td><td class=\"text-narrow-screen-hidden\"><a href=\"/Rate/USD/IDR/12-22-2020\">USD IDR rate for 12/22/2020</a></td></tr>,\n",
       " <tr><td>12/21/2020</td><td>Monday</td><td><a href=\"/Rate/USD/IDR/12-21-2020\">14,124.20148</a> IDR</td><td class=\"text-narrow-screen-hidden\"><a href=\"/Rate/USD/IDR/12-21-2020\">USD IDR rate for 12/21/2020</a></td></tr>,\n",
       " <tr><td>12/18/2020</td><td>Friday</td><td><a href=\"/Rate/USD/IDR/12-18-2020\">14,101.05758</a> IDR</td><td class=\"text-narrow-screen-hidden\"><a href=\"/Rate/USD/IDR/12-18-2020\">USD IDR rate for 12/18/2020</a></td></tr>,\n",
       " <tr><td>12/17/2020</td><td>Thursday</td><td><a href=\"/Rate/USD/IDR/12-17-2020\">14,101.72807</a> IDR</td><td class=\"text-narrow-screen-hidden\"><a href=\"/Rate/USD/IDR/12-17-2020\">USD IDR rate for 12/17/2020</a></td></tr>,\n",
       " <tr><td>12/16/2020</td><td>Wednesday</td><td><a href=\"/Rate/USD/IDR/12-16-2020\">14,084.50704</a> IDR</td><td class=\"text-narrow-screen-hidden\"><a href=\"/Rate/USD/IDR/12-16-2020\">USD IDR rate for 12/16/2020</a></td></tr>,\n",
       " <tr><td>12/15/2020</td><td>Tuesday</td><td><a href=\"/Rate/USD/IDR/12-15-2020\">14,124.19150</a> IDR</td><td class=\"text-narrow-screen-hidden\"><a href=\"/Rate/USD/IDR/12-15-2020\">USD IDR rate for 12/15/2020</a></td></tr>,\n",
       " <tr><td>12/14/2020</td><td>Monday</td><td><a href=\"/Rate/USD/IDR/12-14-2020\">14,087.17417</a> IDR</td><td class=\"text-narrow-screen-hidden\"><a href=\"/Rate/USD/IDR/12-14-2020\">USD IDR rate for 12/14/2020</a></td></tr>,\n",
       " <tr><td>12/11/2020</td><td>Friday</td><td><a href=\"/Rate/USD/IDR/12-11-2020\">14,076.36739</a> IDR</td><td class=\"text-narrow-screen-hidden\"><a href=\"/Rate/USD/IDR/12-11-2020\">USD IDR rate for 12/11/2020</a></td></tr>,\n",
       " <tr><td>12/10/2020</td><td>Thursday</td><td><a href=\"/Rate/USD/IDR/12-10-2020\">14,103.70444</a> IDR</td><td class=\"text-narrow-screen-hidden\"><a href=\"/Rate/USD/IDR/12-10-2020\">USD IDR rate for 12/10/2020</a></td></tr>,\n",
       " <tr><td>12/9/2020</td><td>Wednesday</td><td><a href=\"/Rate/USD/IDR/12-9-2020\">14,096.39851</a> IDR</td><td class=\"text-narrow-screen-hidden\"><a href=\"/Rate/USD/IDR/12-9-2020\">USD IDR rate for 12/9/2020</a></td></tr>,\n",
       " <tr><td>12/8/2020</td><td>Tuesday</td><td><a href=\"/Rate/USD/IDR/12-8-2020\">14,105.04229</a> IDR</td><td class=\"text-narrow-screen-hidden\"><a href=\"/Rate/USD/IDR/12-8-2020\">USD IDR rate for 12/8/2020</a></td></tr>,\n",
       " <tr><td>12/7/2020</td><td>Monday</td><td><a href=\"/Rate/USD/IDR/12-7-2020\">14,103.58039</a> IDR</td><td class=\"text-narrow-screen-hidden\"><a href=\"/Rate/USD/IDR/12-7-2020\">USD IDR rate for 12/7/2020</a></td></tr>,\n",
       " <tr><td>12/4/2020</td><td>Friday</td><td><a href=\"/Rate/USD/IDR/12-4-2020\">14,092.75807</a> IDR</td><td class=\"text-narrow-screen-hidden\"><a href=\"/Rate/USD/IDR/12-4-2020\">USD IDR rate for 12/4/2020</a></td></tr>,\n",
       " <tr><td>12/3/2020</td><td>Thursday</td><td><a href=\"/Rate/USD/IDR/12-3-2020\">14,109.15139</a> IDR</td><td class=\"text-narrow-screen-hidden\"><a href=\"/Rate/USD/IDR/12-3-2020\">USD IDR rate for 12/3/2020</a></td></tr>,\n",
       " <tr><td>12/2/2020</td><td>Wednesday</td><td><a href=\"/Rate/USD/IDR/12-2-2020\">14,094.65785</a> IDR</td><td class=\"text-narrow-screen-hidden\"><a href=\"/Rate/USD/IDR/12-2-2020\">USD IDR rate for 12/2/2020</a></td></tr>,\n",
       " <tr><td>12/1/2020</td><td>Tuesday</td><td><a href=\"/Rate/USD/IDR/12-1-2020\">14,118.51435</a> IDR</td><td class=\"text-narrow-screen-hidden\"><a href=\"/Rate/USD/IDR/12-1-2020\">USD IDR rate for 12/1/2020</a></td></tr>,\n",
       " <tr><td>11/30/2020</td><td>Monday</td><td><a href=\"/Rate/USD/IDR/11-30-2020\">14,114.11663</a> IDR</td><td class=\"text-narrow-screen-hidden\"><a href=\"/Rate/USD/IDR/11-30-2020\">USD IDR rate for 11/30/2020</a></td></tr>,\n",
       " <tr><td>11/27/2020</td><td>Friday</td><td><a href=\"/Rate/USD/IDR/11-27-2020\">14,078.12448</a> IDR</td><td class=\"text-narrow-screen-hidden\"><a href=\"/Rate/USD/IDR/11-27-2020\">USD IDR rate for 11/27/2020</a></td></tr>,\n",
       " <tr><td>11/26/2020</td><td>Thursday</td><td><a href=\"/Rate/USD/IDR/11-26-2020\">14,090.70769</a> IDR</td><td class=\"text-narrow-screen-hidden\"><a href=\"/Rate/USD/IDR/11-26-2020\">USD IDR rate for 11/26/2020</a></td></tr>,\n",
       " <tr><td>11/25/2020</td><td>Wednesday</td><td><a href=\"/Rate/USD/IDR/11-25-2020\">14,136.09929</a> IDR</td><td class=\"text-narrow-screen-hidden\"><a href=\"/Rate/USD/IDR/11-25-2020\">USD IDR rate for 11/25/2020</a></td></tr>,\n",
       " <tr><td>11/24/2020</td><td>Tuesday</td><td><a href=\"/Rate/USD/IDR/11-24-2020\">14,137.48161</a> IDR</td><td class=\"text-narrow-screen-hidden\"><a href=\"/Rate/USD/IDR/11-24-2020\">USD IDR rate for 11/24/2020</a></td></tr>,\n",
       " <tr><td>11/23/2020</td><td>Monday</td><td><a href=\"/Rate/USD/IDR/11-23-2020\">14,185.57119</a> IDR</td><td class=\"text-narrow-screen-hidden\"><a href=\"/Rate/USD/IDR/11-23-2020\">USD IDR rate for 11/23/2020</a></td></tr>,\n",
       " <tr><td>11/20/2020</td><td>Friday</td><td><a href=\"/Rate/USD/IDR/11-20-2020\">14,162.60519</a> IDR</td><td class=\"text-narrow-screen-hidden\"><a href=\"/Rate/USD/IDR/11-20-2020\">USD IDR rate for 11/20/2020</a></td></tr>,\n",
       " <tr><td>11/19/2020</td><td>Thursday</td><td><a href=\"/Rate/USD/IDR/11-19-2020\">14,165.50144</a> IDR</td><td class=\"text-narrow-screen-hidden\"><a href=\"/Rate/USD/IDR/11-19-2020\">USD IDR rate for 11/19/2020</a></td></tr>,\n",
       " <tr><td>11/18/2020</td><td>Wednesday</td><td><a href=\"/Rate/USD/IDR/11-18-2020\">14,051.29503</a> IDR</td><td class=\"text-narrow-screen-hidden\"><a href=\"/Rate/USD/IDR/11-18-2020\">USD IDR rate for 11/18/2020</a></td></tr>,\n",
       " <tr><td>11/17/2020</td><td>Tuesday</td><td><a href=\"/Rate/USD/IDR/11-17-2020\">14,040.16051</a> IDR</td><td class=\"text-narrow-screen-hidden\"><a href=\"/Rate/USD/IDR/11-17-2020\">USD IDR rate for 11/17/2020</a></td></tr>,\n",
       " <tr><td>11/16/2020</td><td>Monday</td><td><a href=\"/Rate/USD/IDR/11-16-2020\">14,085.69501</a> IDR</td><td class=\"text-narrow-screen-hidden\"><a href=\"/Rate/USD/IDR/11-16-2020\">USD IDR rate for 11/16/2020</a></td></tr>,\n",
       " <tr><td>11/13/2020</td><td>Friday</td><td><a href=\"/Rate/USD/IDR/11-13-2020\">14,142.77143</a> IDR</td><td class=\"text-narrow-screen-hidden\"><a href=\"/Rate/USD/IDR/11-13-2020\">USD IDR rate for 11/13/2020</a></td></tr>,\n",
       " <tr><td>11/12/2020</td><td>Thursday</td><td><a href=\"/Rate/USD/IDR/11-12-2020\">14,141.24303</a> IDR</td><td class=\"text-narrow-screen-hidden\"><a href=\"/Rate/USD/IDR/11-12-2020\">USD IDR rate for 11/12/2020</a></td></tr>,\n",
       " <tr><td>11/11/2020</td><td>Wednesday</td><td><a href=\"/Rate/USD/IDR/11-11-2020\">14,073.46024</a> IDR</td><td class=\"text-narrow-screen-hidden\"><a href=\"/Rate/USD/IDR/11-11-2020\">USD IDR rate for 11/11/2020</a></td></tr>,\n",
       " <tr><td>11/10/2020</td><td>Tuesday</td><td><a href=\"/Rate/USD/IDR/11-10-2020\">14,053.76135</a> IDR</td><td class=\"text-narrow-screen-hidden\"><a href=\"/Rate/USD/IDR/11-10-2020\">USD IDR rate for 11/10/2020</a></td></tr>,\n",
       " <tr><td>11/9/2020</td><td>Monday</td><td><a href=\"/Rate/USD/IDR/11-9-2020\">14,283.29667</a> IDR</td><td class=\"text-narrow-screen-hidden\"><a href=\"/Rate/USD/IDR/11-9-2020\">USD IDR rate for 11/9/2020</a></td></tr>,\n",
       " <tr><td>11/6/2020</td><td>Friday</td><td><a href=\"/Rate/USD/IDR/11-6-2020\">14,214.49744</a> IDR</td><td class=\"text-narrow-screen-hidden\"><a href=\"/Rate/USD/IDR/11-6-2020\">USD IDR rate for 11/6/2020</a></td></tr>,\n",
       " <tr><td>11/5/2020</td><td>Thursday</td><td><a href=\"/Rate/USD/IDR/11-5-2020\">14,389.14027</a> IDR</td><td class=\"text-narrow-screen-hidden\"><a href=\"/Rate/USD/IDR/11-5-2020\">USD IDR rate for 11/5/2020</a></td></tr>,\n",
       " <tr><td>11/4/2020</td><td>Wednesday</td><td><a href=\"/Rate/USD/IDR/11-4-2020\">14,544.44634</a> IDR</td><td class=\"text-narrow-screen-hidden\"><a href=\"/Rate/USD/IDR/11-4-2020\">USD IDR rate for 11/4/2020</a></td></tr>,\n",
       " <tr><td>11/3/2020</td><td>Tuesday</td><td><a href=\"/Rate/USD/IDR/11-3-2020\">14,589.01774</a> IDR</td><td class=\"text-narrow-screen-hidden\"><a href=\"/Rate/USD/IDR/11-3-2020\">USD IDR rate for 11/3/2020</a></td></tr>,\n",
       " <tr><td>11/2/2020</td><td>Monday</td><td><a href=\"/Rate/USD/IDR/11-2-2020\">14,612.89990</a> IDR</td><td class=\"text-narrow-screen-hidden\"><a href=\"/Rate/USD/IDR/11-2-2020\">USD IDR rate for 11/2/2020</a></td></tr>,\n",
       " <tr><td>10/30/2020</td><td>Friday</td><td><a href=\"/Rate/USD/IDR/10-30-2020\">14,629.16216</a> IDR</td><td class=\"text-narrow-screen-hidden\"><a href=\"/Rate/USD/IDR/10-30-2020\">USD IDR rate for 10/30/2020</a></td></tr>,\n",
       " <tr><td>10/29/2020</td><td>Thursday</td><td><a href=\"/Rate/USD/IDR/10-29-2020\">14,701.62361</a> IDR</td><td class=\"text-narrow-screen-hidden\"><a href=\"/Rate/USD/IDR/10-29-2020\">USD IDR rate for 10/29/2020</a></td></tr>,\n",
       " <tr><td>10/28/2020</td><td>Wednesday</td><td><a href=\"/Rate/USD/IDR/10-28-2020\">14,701.92586</a> IDR</td><td class=\"text-narrow-screen-hidden\"><a href=\"/Rate/USD/IDR/10-28-2020\">USD IDR rate for 10/28/2020</a></td></tr>,\n",
       " <tr><td>10/27/2020</td><td>Tuesday</td><td><a href=\"/Rate/USD/IDR/10-27-2020\">14,649.78960</a> IDR</td><td class=\"text-narrow-screen-hidden\"><a href=\"/Rate/USD/IDR/10-27-2020\">USD IDR rate for 10/27/2020</a></td></tr>,\n",
       " <tr><td>10/26/2020</td><td>Monday</td><td><a href=\"/Rate/USD/IDR/10-26-2020\">14,652.88010</a> IDR</td><td class=\"text-narrow-screen-hidden\"><a href=\"/Rate/USD/IDR/10-26-2020\">USD IDR rate for 10/26/2020</a></td></tr>,\n",
       " <tr><td>10/23/2020</td><td>Friday</td><td><a href=\"/Rate/USD/IDR/10-23-2020\">14,655.04157</a> IDR</td><td class=\"text-narrow-screen-hidden\"><a href=\"/Rate/USD/IDR/10-23-2020\">USD IDR rate for 10/23/2020</a></td></tr>,\n",
       " <tr><td>10/22/2020</td><td>Thursday</td><td><a href=\"/Rate/USD/IDR/10-22-2020\">14,647.90877</a> IDR</td><td class=\"text-narrow-screen-hidden\"><a href=\"/Rate/USD/IDR/10-22-2020\">USD IDR rate for 10/22/2020</a></td></tr>,\n",
       " <tr><td>10/21/2020</td><td>Wednesday</td><td><a href=\"/Rate/USD/IDR/10-21-2020\">14,641.61060</a> IDR</td><td class=\"text-narrow-screen-hidden\"><a href=\"/Rate/USD/IDR/10-21-2020\">USD IDR rate for 10/21/2020</a></td></tr>,\n",
       " <tr><td>10/20/2020</td><td>Tuesday</td><td><a href=\"/Rate/USD/IDR/10-20-2020\">14,555.88071</a> IDR</td><td class=\"text-narrow-screen-hidden\"><a href=\"/Rate/USD/IDR/10-20-2020\">USD IDR rate for 10/20/2020</a></td></tr>,\n",
       " <tr><td>10/19/2020</td><td>Monday</td><td><a href=\"/Rate/USD/IDR/10-19-2020\">14,705.13256</a> IDR</td><td class=\"text-narrow-screen-hidden\"><a href=\"/Rate/USD/IDR/10-19-2020\">USD IDR rate for 10/19/2020</a></td></tr>,\n",
       " <tr><td>10/16/2020</td><td>Friday</td><td><a href=\"/Rate/USD/IDR/10-16-2020\">14,688.43616</a> IDR</td><td class=\"text-narrow-screen-hidden\"><a href=\"/Rate/USD/IDR/10-16-2020\">USD IDR rate for 10/16/2020</a></td></tr>,\n",
       " <tr><td>10/15/2020</td><td>Thursday</td><td><a href=\"/Rate/USD/IDR/10-15-2020\">14,667.95340</a> IDR</td><td class=\"text-narrow-screen-hidden\"><a href=\"/Rate/USD/IDR/10-15-2020\">USD IDR rate for 10/15/2020</a></td></tr>,\n",
       " <tr><td>10/14/2020</td><td>Wednesday</td><td><a href=\"/Rate/USD/IDR/10-14-2020\">14,696.21912</a> IDR</td><td class=\"text-narrow-screen-hidden\"><a href=\"/Rate/USD/IDR/10-14-2020\">USD IDR rate for 10/14/2020</a></td></tr>,\n",
       " <tr><td>10/13/2020</td><td>Tuesday</td><td><a href=\"/Rate/USD/IDR/10-13-2020\">14,687.35100</a> IDR</td><td class=\"text-narrow-screen-hidden\"><a href=\"/Rate/USD/IDR/10-13-2020\">USD IDR rate for 10/13/2020</a></td></tr>,\n",
       " <tr><td>10/12/2020</td><td>Monday</td><td><a href=\"/Rate/USD/IDR/10-12-2020\">14,677.85296</a> IDR</td><td class=\"text-narrow-screen-hidden\"><a href=\"/Rate/USD/IDR/10-12-2020\">USD IDR rate for 10/12/2020</a></td></tr>,\n",
       " <tr><td>10/9/2020</td><td>Friday</td><td><a href=\"/Rate/USD/IDR/10-9-2020\">14,679.27910</a> IDR</td><td class=\"text-narrow-screen-hidden\"><a href=\"/Rate/USD/IDR/10-9-2020\">USD IDR rate for 10/9/2020</a></td></tr>,\n",
       " <tr><td>10/8/2020</td><td>Thursday</td><td><a href=\"/Rate/USD/IDR/10-8-2020\">14,692.93025</a> IDR</td><td class=\"text-narrow-screen-hidden\"><a href=\"/Rate/USD/IDR/10-8-2020\">USD IDR rate for 10/8/2020</a></td></tr>,\n",
       " <tr><td>10/7/2020</td><td>Wednesday</td><td><a href=\"/Rate/USD/IDR/10-7-2020\">14,705.58246</a> IDR</td><td class=\"text-narrow-screen-hidden\"><a href=\"/Rate/USD/IDR/10-7-2020\">USD IDR rate for 10/7/2020</a></td></tr>,\n",
       " <tr><td>10/6/2020</td><td>Tuesday</td><td><a href=\"/Rate/USD/IDR/10-6-2020\">14,857.67854</a> IDR</td><td class=\"text-narrow-screen-hidden\"><a href=\"/Rate/USD/IDR/10-6-2020\">USD IDR rate for 10/6/2020</a></td></tr>,\n",
       " <tr><td>10/5/2020</td><td>Monday</td><td><a href=\"/Rate/USD/IDR/10-5-2020\">14,797.90178</a> IDR</td><td class=\"text-narrow-screen-hidden\"><a href=\"/Rate/USD/IDR/10-5-2020\">USD IDR rate for 10/5/2020</a></td></tr>,\n",
       " <tr><td>10/2/2020</td><td>Friday</td><td><a href=\"/Rate/USD/IDR/10-2-2020\">14,852.30483</a> IDR</td><td class=\"text-narrow-screen-hidden\"><a href=\"/Rate/USD/IDR/10-2-2020\">USD IDR rate for 10/2/2020</a></td></tr>,\n",
       " <tr><td>10/1/2020</td><td>Thursday</td><td><a href=\"/Rate/USD/IDR/10-1-2020\">14,822.66605</a> IDR</td><td class=\"text-narrow-screen-hidden\"><a href=\"/Rate/USD/IDR/10-1-2020\">USD IDR rate for 10/1/2020</a></td></tr>,\n",
       " <tr><td>9/30/2020</td><td>Wednesday</td><td><a href=\"/Rate/USD/IDR/9-30-2020\">14,867.44686</a> IDR</td><td class=\"text-narrow-screen-hidden\"><a href=\"/Rate/USD/IDR/9-30-2020\">USD IDR rate for 9/30/2020</a></td></tr>,\n",
       " <tr><td>9/29/2020</td><td>Tuesday</td><td><a href=\"/Rate/USD/IDR/9-29-2020\">14,880.93210</a> IDR</td><td class=\"text-narrow-screen-hidden\"><a href=\"/Rate/USD/IDR/9-29-2020\">USD IDR rate for 9/29/2020</a></td></tr>,\n",
       " <tr><td>9/28/2020</td><td>Monday</td><td><a href=\"/Rate/USD/IDR/9-28-2020\">14,892.32194</a> IDR</td><td class=\"text-narrow-screen-hidden\"><a href=\"/Rate/USD/IDR/9-28-2020\">USD IDR rate for 9/28/2020</a></td></tr>,\n",
       " <tr><td>9/27/2020</td><td>Sunday</td><td><a href=\"/Rate/USD/IDR/9-27-2020\">14,859.98349</a> IDR</td><td class=\"text-narrow-screen-hidden\"><a href=\"/Rate/USD/IDR/9-27-2020\">USD IDR rate for 9/27/2020</a></td></tr>,\n",
       " <tr><td>9/25/2020</td><td>Friday</td><td><a href=\"/Rate/USD/IDR/9-25-2020\">14,855.63943</a> IDR</td><td class=\"text-narrow-screen-hidden\"><a href=\"/Rate/USD/IDR/9-25-2020\">USD IDR rate for 9/25/2020</a></td></tr>,\n",
       " <tr><td>9/24/2020</td><td>Thursday</td><td><a href=\"/Rate/USD/IDR/9-24-2020\">14,888.78607</a> IDR</td><td class=\"text-narrow-screen-hidden\"><a href=\"/Rate/USD/IDR/9-24-2020\">USD IDR rate for 9/24/2020</a></td></tr>,\n",
       " <tr><td>9/23/2020</td><td>Wednesday</td><td><a href=\"/Rate/USD/IDR/9-23-2020\">14,825.54899</a> IDR</td><td class=\"text-narrow-screen-hidden\"><a href=\"/Rate/USD/IDR/9-23-2020\">USD IDR rate for 9/23/2020</a></td></tr>,\n",
       " <tr><td>9/22/2020</td><td>Tuesday</td><td><a href=\"/Rate/USD/IDR/9-22-2020\">14,751.85786</a> IDR</td><td class=\"text-narrow-screen-hidden\"><a href=\"/Rate/USD/IDR/9-22-2020\">USD IDR rate for 9/22/2020</a></td></tr>,\n",
       " <tr><td>9/21/2020</td><td>Monday</td><td><a href=\"/Rate/USD/IDR/9-21-2020\">14,701.43420</a> IDR</td><td class=\"text-narrow-screen-hidden\"><a href=\"/Rate/USD/IDR/9-21-2020\">USD IDR rate for 9/21/2020</a></td></tr>,\n",
       " <tr><td>9/20/2020</td><td>Sunday</td><td><a href=\"/Rate/USD/IDR/9-20-2020\">14,728.84529</a> IDR</td><td class=\"text-narrow-screen-hidden\"><a href=\"/Rate/USD/IDR/9-20-2020\">USD IDR rate for 9/20/2020</a></td></tr>,\n",
       " <tr><td>9/18/2020</td><td>Friday</td><td><a href=\"/Rate/USD/IDR/9-18-2020\">14,730.71792</a> IDR</td><td class=\"text-narrow-screen-hidden\"><a href=\"/Rate/USD/IDR/9-18-2020\">USD IDR rate for 9/18/2020</a></td></tr>,\n",
       " <tr><td>9/17/2020</td><td>Thursday</td><td><a href=\"/Rate/USD/IDR/9-17-2020\">14,829.41738</a> IDR</td><td class=\"text-narrow-screen-hidden\"><a href=\"/Rate/USD/IDR/9-17-2020\">USD IDR rate for 9/17/2020</a></td></tr>,\n",
       " <tr><td>9/16/2020</td><td>Wednesday</td><td><a href=\"/Rate/USD/IDR/9-16-2020\">14,807.88761</a> IDR</td><td class=\"text-narrow-screen-hidden\"><a href=\"/Rate/USD/IDR/9-16-2020\">USD IDR rate for 9/16/2020</a></td></tr>,\n",
       " <tr><td>9/15/2020</td><td>Tuesday</td><td><a href=\"/Rate/USD/IDR/9-15-2020\">14,843.44670</a> IDR</td><td class=\"text-narrow-screen-hidden\"><a href=\"/Rate/USD/IDR/9-15-2020\">USD IDR rate for 9/15/2020</a></td></tr>,\n",
       " <tr><td>9/14/2020</td><td>Monday</td><td><a href=\"/Rate/USD/IDR/9-14-2020\">14,864.65988</a> IDR</td><td class=\"text-narrow-screen-hidden\"><a href=\"/Rate/USD/IDR/9-14-2020\">USD IDR rate for 9/14/2020</a></td></tr>,\n",
       " <tr><td>9/13/2020</td><td>Sunday</td><td><a href=\"/Rate/USD/IDR/9-13-2020\">14,876.45021</a> IDR</td><td class=\"text-narrow-screen-hidden\"><a href=\"/Rate/USD/IDR/9-13-2020\">USD IDR rate for 9/13/2020</a></td></tr>,\n",
       " <tr><td>9/11/2020</td><td>Friday</td><td><a href=\"/Rate/USD/IDR/9-11-2020\">14,865.27553</a> IDR</td><td class=\"text-narrow-screen-hidden\"><a href=\"/Rate/USD/IDR/9-11-2020\">USD IDR rate for 9/11/2020</a></td></tr>,\n",
       " <tr><td>9/10/2020</td><td>Thursday</td><td><a href=\"/Rate/USD/IDR/9-10-2020\">14,871.58664</a> IDR</td><td class=\"text-narrow-screen-hidden\"><a href=\"/Rate/USD/IDR/9-10-2020\">USD IDR rate for 9/10/2020</a></td></tr>,\n",
       " <tr><td>9/9/2020</td><td>Wednesday</td><td><a href=\"/Rate/USD/IDR/9-9-2020\">14,783.50009</a> IDR</td><td class=\"text-narrow-screen-hidden\"><a href=\"/Rate/USD/IDR/9-9-2020\">USD IDR rate for 9/9/2020</a></td></tr>,\n",
       " <tr><td>9/8/2020</td><td>Tuesday</td><td><a href=\"/Rate/USD/IDR/9-8-2020\">14,839.54267</a> IDR</td><td class=\"text-narrow-screen-hidden\"><a href=\"/Rate/USD/IDR/9-8-2020\">USD IDR rate for 9/8/2020</a></td></tr>,\n",
       " <tr><td>9/7/2020</td><td>Monday</td><td><a href=\"/Rate/USD/IDR/9-7-2020\">14,743.92989</a> IDR</td><td class=\"text-narrow-screen-hidden\"><a href=\"/Rate/USD/IDR/9-7-2020\">USD IDR rate for 9/7/2020</a></td></tr>,\n",
       " <tr><td>9/6/2020</td><td>Sunday</td><td><a href=\"/Rate/USD/IDR/9-6-2020\">14,754.95155</a> IDR</td><td class=\"text-narrow-screen-hidden\"><a href=\"/Rate/USD/IDR/9-6-2020\">USD IDR rate for 9/6/2020</a></td></tr>]"
      ]
     },
     "execution_count": 79,
     "metadata": {},
     "output_type": "execute_result"
    }
   ],
   "source": [
    "tr = table.find_all('tr', attrs={'class':''})\n",
    "tr"
   ]
  },
  {
   "cell_type": "markdown",
   "metadata": {},
   "source": [
    "Do the scrapping process here (please change this markdown with your explanation)"
   ]
  },
  {
   "cell_type": "code",
   "execution_count": 80,
   "metadata": {
    "scrolled": false
   },
   "outputs": [
    {
     "data": {
      "text/plain": [
       "[('3/4/2021', 'Thursday', '14,261.85426 IDR'),\n",
       " ('3/3/2021', 'Wednesday', '14,257.29443 IDR'),\n",
       " ('3/2/2021', 'Tuesday', '14,256.28041 IDR'),\n",
       " ('3/1/2021', 'Monday', '14,248.60576 IDR'),\n",
       " ('2/26/2021', 'Friday', '14,300.27815 IDR'),\n",
       " ('2/25/2021', 'Thursday', '14,139.73096 IDR'),\n",
       " ('2/24/2021', 'Wednesday', '14,083.03673 IDR'),\n",
       " ('2/23/2021', 'Tuesday', '14,092.64503 IDR'),\n",
       " ('2/22/2021', 'Monday', '14,118.07274 IDR'),\n",
       " ('2/19/2021', 'Friday', '14,066.79375 IDR'),\n",
       " ('2/18/2021', 'Thursday', '14,013.51318 IDR'),\n",
       " ('2/17/2021', 'Wednesday', '14,015.16095 IDR'),\n",
       " ('2/16/2021', 'Tuesday', '13,935.96629 IDR'),\n",
       " ('2/15/2021', 'Monday', '13,918.18725 IDR'),\n",
       " ('2/12/2021', 'Friday', '13,988.54710 IDR'),\n",
       " ('2/11/2021', 'Thursday', '13,982.27900 IDR'),\n",
       " ('2/10/2021', 'Wednesday', '13,994.09212 IDR'),\n",
       " ('2/9/2021', 'Tuesday', '13,920.52018 IDR'),\n",
       " ('2/8/2021', 'Monday', '14,007.25257 IDR'),\n",
       " ('2/5/2021', 'Friday', '14,008.99630 IDR'),\n",
       " ('2/4/2021', 'Thursday', '14,020.87878 IDR'),\n",
       " ('2/3/2021', 'Wednesday', '13,997.60682 IDR'),\n",
       " ('2/2/2021', 'Tuesday', '14,004.60175 IDR'),\n",
       " ('2/1/2021', 'Monday', '14,025.27450 IDR'),\n",
       " ('1/29/2021', 'Friday', '14,027.32457 IDR'),\n",
       " ('1/28/2021', 'Thursday', '14,048.06146 IDR'),\n",
       " ('1/27/2021', 'Wednesday', '14,048.72649 IDR'),\n",
       " ('1/26/2021', 'Tuesday', '14,062.91108 IDR'),\n",
       " ('1/25/2021', 'Monday', '14,021.11609 IDR'),\n",
       " ('1/22/2021', 'Friday', '14,025.60268 IDR'),\n",
       " ('1/21/2021', 'Thursday', '13,964.91920 IDR'),\n",
       " ('1/20/2021', 'Wednesday', '14,021.43046 IDR'),\n",
       " ('1/19/2021', 'Tuesday', '14,063.60877 IDR'),\n",
       " ('1/18/2021', 'Monday', '14,055.43768 IDR'),\n",
       " ('1/15/2021', 'Friday', '14,153.46654 IDR'),\n",
       " ('1/14/2021', 'Thursday', '14,070.58746 IDR'),\n",
       " ('1/13/2021', 'Wednesday', '14,125.90174 IDR'),\n",
       " ('1/12/2021', 'Tuesday', '14,074.81444 IDR'),\n",
       " ('1/11/2021', 'Monday', '14,137.24151 IDR'),\n",
       " ('1/8/2021', 'Friday', '13,991.16348 IDR'),\n",
       " ('1/7/2021', 'Thursday', '13,905.64377 IDR'),\n",
       " ('1/6/2021', 'Wednesday', '13,861.51463 IDR'),\n",
       " ('1/5/2021', 'Tuesday', '13,906.05686 IDR'),\n",
       " ('1/4/2021', 'Monday', '14,015.86887 IDR'),\n",
       " ('1/1/2021', 'Friday', '14,213.67526 IDR'),\n",
       " ('12/31/2020', 'Thursday', '14,120.57461 IDR'),\n",
       " ('12/30/2020', 'Wednesday', '14,020.01350 IDR'),\n",
       " ('12/29/2020', 'Tuesday', '14,108.18177 IDR'),\n",
       " ('12/28/2020', 'Monday', '14,139.81753 IDR'),\n",
       " ('12/25/2020', 'Friday', '14,211.65343 IDR'),\n",
       " ('12/24/2020', 'Thursday', '14,188.41293 IDR'),\n",
       " ('12/23/2020', 'Wednesday', '14,183.64082 IDR'),\n",
       " ('12/22/2020', 'Tuesday', '14,164.98134 IDR'),\n",
       " ('12/21/2020', 'Monday', '14,124.20148 IDR'),\n",
       " ('12/18/2020', 'Friday', '14,101.05758 IDR'),\n",
       " ('12/17/2020', 'Thursday', '14,101.72807 IDR'),\n",
       " ('12/16/2020', 'Wednesday', '14,084.50704 IDR'),\n",
       " ('12/15/2020', 'Tuesday', '14,124.19150 IDR'),\n",
       " ('12/14/2020', 'Monday', '14,087.17417 IDR'),\n",
       " ('12/11/2020', 'Friday', '14,076.36739 IDR'),\n",
       " ('12/10/2020', 'Thursday', '14,103.70444 IDR'),\n",
       " ('12/9/2020', 'Wednesday', '14,096.39851 IDR'),\n",
       " ('12/8/2020', 'Tuesday', '14,105.04229 IDR'),\n",
       " ('12/7/2020', 'Monday', '14,103.58039 IDR'),\n",
       " ('12/4/2020', 'Friday', '14,092.75807 IDR'),\n",
       " ('12/3/2020', 'Thursday', '14,109.15139 IDR'),\n",
       " ('12/2/2020', 'Wednesday', '14,094.65785 IDR'),\n",
       " ('12/1/2020', 'Tuesday', '14,118.51435 IDR'),\n",
       " ('11/30/2020', 'Monday', '14,114.11663 IDR'),\n",
       " ('11/27/2020', 'Friday', '14,078.12448 IDR'),\n",
       " ('11/26/2020', 'Thursday', '14,090.70769 IDR'),\n",
       " ('11/25/2020', 'Wednesday', '14,136.09929 IDR'),\n",
       " ('11/24/2020', 'Tuesday', '14,137.48161 IDR'),\n",
       " ('11/23/2020', 'Monday', '14,185.57119 IDR'),\n",
       " ('11/20/2020', 'Friday', '14,162.60519 IDR'),\n",
       " ('11/19/2020', 'Thursday', '14,165.50144 IDR'),\n",
       " ('11/18/2020', 'Wednesday', '14,051.29503 IDR'),\n",
       " ('11/17/2020', 'Tuesday', '14,040.16051 IDR'),\n",
       " ('11/16/2020', 'Monday', '14,085.69501 IDR'),\n",
       " ('11/13/2020', 'Friday', '14,142.77143 IDR'),\n",
       " ('11/12/2020', 'Thursday', '14,141.24303 IDR'),\n",
       " ('11/11/2020', 'Wednesday', '14,073.46024 IDR'),\n",
       " ('11/10/2020', 'Tuesday', '14,053.76135 IDR'),\n",
       " ('11/9/2020', 'Monday', '14,283.29667 IDR'),\n",
       " ('11/6/2020', 'Friday', '14,214.49744 IDR'),\n",
       " ('11/5/2020', 'Thursday', '14,389.14027 IDR'),\n",
       " ('11/4/2020', 'Wednesday', '14,544.44634 IDR'),\n",
       " ('11/3/2020', 'Tuesday', '14,589.01774 IDR'),\n",
       " ('11/2/2020', 'Monday', '14,612.89990 IDR'),\n",
       " ('10/30/2020', 'Friday', '14,629.16216 IDR'),\n",
       " ('10/29/2020', 'Thursday', '14,701.62361 IDR'),\n",
       " ('10/28/2020', 'Wednesday', '14,701.92586 IDR'),\n",
       " ('10/27/2020', 'Tuesday', '14,649.78960 IDR'),\n",
       " ('10/26/2020', 'Monday', '14,652.88010 IDR'),\n",
       " ('10/23/2020', 'Friday', '14,655.04157 IDR'),\n",
       " ('10/22/2020', 'Thursday', '14,647.90877 IDR'),\n",
       " ('10/21/2020', 'Wednesday', '14,641.61060 IDR'),\n",
       " ('10/20/2020', 'Tuesday', '14,555.88071 IDR'),\n",
       " ('10/19/2020', 'Monday', '14,705.13256 IDR'),\n",
       " ('10/16/2020', 'Friday', '14,688.43616 IDR'),\n",
       " ('10/15/2020', 'Thursday', '14,667.95340 IDR'),\n",
       " ('10/14/2020', 'Wednesday', '14,696.21912 IDR'),\n",
       " ('10/13/2020', 'Tuesday', '14,687.35100 IDR'),\n",
       " ('10/12/2020', 'Monday', '14,677.85296 IDR'),\n",
       " ('10/9/2020', 'Friday', '14,679.27910 IDR'),\n",
       " ('10/8/2020', 'Thursday', '14,692.93025 IDR'),\n",
       " ('10/7/2020', 'Wednesday', '14,705.58246 IDR'),\n",
       " ('10/6/2020', 'Tuesday', '14,857.67854 IDR'),\n",
       " ('10/5/2020', 'Monday', '14,797.90178 IDR'),\n",
       " ('10/2/2020', 'Friday', '14,852.30483 IDR'),\n",
       " ('10/1/2020', 'Thursday', '14,822.66605 IDR'),\n",
       " ('9/30/2020', 'Wednesday', '14,867.44686 IDR'),\n",
       " ('9/29/2020', 'Tuesday', '14,880.93210 IDR'),\n",
       " ('9/28/2020', 'Monday', '14,892.32194 IDR'),\n",
       " ('9/27/2020', 'Sunday', '14,859.98349 IDR'),\n",
       " ('9/25/2020', 'Friday', '14,855.63943 IDR'),\n",
       " ('9/24/2020', 'Thursday', '14,888.78607 IDR'),\n",
       " ('9/23/2020', 'Wednesday', '14,825.54899 IDR'),\n",
       " ('9/22/2020', 'Tuesday', '14,751.85786 IDR'),\n",
       " ('9/21/2020', 'Monday', '14,701.43420 IDR'),\n",
       " ('9/20/2020', 'Sunday', '14,728.84529 IDR'),\n",
       " ('9/18/2020', 'Friday', '14,730.71792 IDR'),\n",
       " ('9/17/2020', 'Thursday', '14,829.41738 IDR'),\n",
       " ('9/16/2020', 'Wednesday', '14,807.88761 IDR'),\n",
       " ('9/15/2020', 'Tuesday', '14,843.44670 IDR'),\n",
       " ('9/14/2020', 'Monday', '14,864.65988 IDR'),\n",
       " ('9/13/2020', 'Sunday', '14,876.45021 IDR'),\n",
       " ('9/11/2020', 'Friday', '14,865.27553 IDR'),\n",
       " ('9/10/2020', 'Thursday', '14,871.58664 IDR'),\n",
       " ('9/9/2020', 'Wednesday', '14,783.50009 IDR'),\n",
       " ('9/8/2020', 'Tuesday', '14,839.54267 IDR'),\n",
       " ('9/7/2020', 'Monday', '14,743.92989 IDR'),\n",
       " ('9/6/2020', 'Sunday', '14,754.95155 IDR')]"
      ]
     },
     "execution_count": 80,
     "metadata": {},
     "output_type": "execute_result"
    }
   ],
   "source": [
    "temp = [] #initiating a tuple\n",
    "\n",
    "for i in range(1, len(tr)):\n",
    "    row = table.find_all('tr', attrs = {'class':''})[i]\n",
    "\n",
    "    #get date \n",
    "    date = row.find_all('td')[0].text\n",
    "    date = date.strip()\n",
    "    \n",
    "    #get day name\n",
    "    day = row.find_all('td')[1].text\n",
    "    day = day.strip()\n",
    "    \n",
    "    #get value \n",
    "    value = row.find_all('td')[2].text\n",
    "    value = value.strip()\n",
    "    \n",
    "    #scrapping process\n",
    "    temp.append((date, day, value))\n",
    "temp "
   ]
  },
  {
   "cell_type": "code",
   "execution_count": 81,
   "metadata": {},
   "outputs": [
    {
     "data": {
      "text/plain": [
       "[('9/6/2020', 'Sunday', '14,754.95155 IDR'),\n",
       " ('9/7/2020', 'Monday', '14,743.92989 IDR'),\n",
       " ('9/8/2020', 'Tuesday', '14,839.54267 IDR'),\n",
       " ('9/9/2020', 'Wednesday', '14,783.50009 IDR'),\n",
       " ('9/10/2020', 'Thursday', '14,871.58664 IDR'),\n",
       " ('9/11/2020', 'Friday', '14,865.27553 IDR'),\n",
       " ('9/13/2020', 'Sunday', '14,876.45021 IDR'),\n",
       " ('9/14/2020', 'Monday', '14,864.65988 IDR'),\n",
       " ('9/15/2020', 'Tuesday', '14,843.44670 IDR'),\n",
       " ('9/16/2020', 'Wednesday', '14,807.88761 IDR'),\n",
       " ('9/17/2020', 'Thursday', '14,829.41738 IDR'),\n",
       " ('9/18/2020', 'Friday', '14,730.71792 IDR'),\n",
       " ('9/20/2020', 'Sunday', '14,728.84529 IDR'),\n",
       " ('9/21/2020', 'Monday', '14,701.43420 IDR'),\n",
       " ('9/22/2020', 'Tuesday', '14,751.85786 IDR'),\n",
       " ('9/23/2020', 'Wednesday', '14,825.54899 IDR'),\n",
       " ('9/24/2020', 'Thursday', '14,888.78607 IDR'),\n",
       " ('9/25/2020', 'Friday', '14,855.63943 IDR'),\n",
       " ('9/27/2020', 'Sunday', '14,859.98349 IDR'),\n",
       " ('9/28/2020', 'Monday', '14,892.32194 IDR'),\n",
       " ('9/29/2020', 'Tuesday', '14,880.93210 IDR'),\n",
       " ('9/30/2020', 'Wednesday', '14,867.44686 IDR'),\n",
       " ('10/1/2020', 'Thursday', '14,822.66605 IDR'),\n",
       " ('10/2/2020', 'Friday', '14,852.30483 IDR'),\n",
       " ('10/5/2020', 'Monday', '14,797.90178 IDR'),\n",
       " ('10/6/2020', 'Tuesday', '14,857.67854 IDR'),\n",
       " ('10/7/2020', 'Wednesday', '14,705.58246 IDR'),\n",
       " ('10/8/2020', 'Thursday', '14,692.93025 IDR'),\n",
       " ('10/9/2020', 'Friday', '14,679.27910 IDR'),\n",
       " ('10/12/2020', 'Monday', '14,677.85296 IDR'),\n",
       " ('10/13/2020', 'Tuesday', '14,687.35100 IDR'),\n",
       " ('10/14/2020', 'Wednesday', '14,696.21912 IDR'),\n",
       " ('10/15/2020', 'Thursday', '14,667.95340 IDR'),\n",
       " ('10/16/2020', 'Friday', '14,688.43616 IDR'),\n",
       " ('10/19/2020', 'Monday', '14,705.13256 IDR'),\n",
       " ('10/20/2020', 'Tuesday', '14,555.88071 IDR'),\n",
       " ('10/21/2020', 'Wednesday', '14,641.61060 IDR'),\n",
       " ('10/22/2020', 'Thursday', '14,647.90877 IDR'),\n",
       " ('10/23/2020', 'Friday', '14,655.04157 IDR'),\n",
       " ('10/26/2020', 'Monday', '14,652.88010 IDR'),\n",
       " ('10/27/2020', 'Tuesday', '14,649.78960 IDR'),\n",
       " ('10/28/2020', 'Wednesday', '14,701.92586 IDR'),\n",
       " ('10/29/2020', 'Thursday', '14,701.62361 IDR'),\n",
       " ('10/30/2020', 'Friday', '14,629.16216 IDR'),\n",
       " ('11/2/2020', 'Monday', '14,612.89990 IDR'),\n",
       " ('11/3/2020', 'Tuesday', '14,589.01774 IDR'),\n",
       " ('11/4/2020', 'Wednesday', '14,544.44634 IDR'),\n",
       " ('11/5/2020', 'Thursday', '14,389.14027 IDR'),\n",
       " ('11/6/2020', 'Friday', '14,214.49744 IDR'),\n",
       " ('11/9/2020', 'Monday', '14,283.29667 IDR'),\n",
       " ('11/10/2020', 'Tuesday', '14,053.76135 IDR'),\n",
       " ('11/11/2020', 'Wednesday', '14,073.46024 IDR'),\n",
       " ('11/12/2020', 'Thursday', '14,141.24303 IDR'),\n",
       " ('11/13/2020', 'Friday', '14,142.77143 IDR'),\n",
       " ('11/16/2020', 'Monday', '14,085.69501 IDR'),\n",
       " ('11/17/2020', 'Tuesday', '14,040.16051 IDR'),\n",
       " ('11/18/2020', 'Wednesday', '14,051.29503 IDR'),\n",
       " ('11/19/2020', 'Thursday', '14,165.50144 IDR'),\n",
       " ('11/20/2020', 'Friday', '14,162.60519 IDR'),\n",
       " ('11/23/2020', 'Monday', '14,185.57119 IDR'),\n",
       " ('11/24/2020', 'Tuesday', '14,137.48161 IDR'),\n",
       " ('11/25/2020', 'Wednesday', '14,136.09929 IDR'),\n",
       " ('11/26/2020', 'Thursday', '14,090.70769 IDR'),\n",
       " ('11/27/2020', 'Friday', '14,078.12448 IDR'),\n",
       " ('11/30/2020', 'Monday', '14,114.11663 IDR'),\n",
       " ('12/1/2020', 'Tuesday', '14,118.51435 IDR'),\n",
       " ('12/2/2020', 'Wednesday', '14,094.65785 IDR'),\n",
       " ('12/3/2020', 'Thursday', '14,109.15139 IDR'),\n",
       " ('12/4/2020', 'Friday', '14,092.75807 IDR'),\n",
       " ('12/7/2020', 'Monday', '14,103.58039 IDR'),\n",
       " ('12/8/2020', 'Tuesday', '14,105.04229 IDR'),\n",
       " ('12/9/2020', 'Wednesday', '14,096.39851 IDR'),\n",
       " ('12/10/2020', 'Thursday', '14,103.70444 IDR'),\n",
       " ('12/11/2020', 'Friday', '14,076.36739 IDR'),\n",
       " ('12/14/2020', 'Monday', '14,087.17417 IDR'),\n",
       " ('12/15/2020', 'Tuesday', '14,124.19150 IDR'),\n",
       " ('12/16/2020', 'Wednesday', '14,084.50704 IDR'),\n",
       " ('12/17/2020', 'Thursday', '14,101.72807 IDR'),\n",
       " ('12/18/2020', 'Friday', '14,101.05758 IDR'),\n",
       " ('12/21/2020', 'Monday', '14,124.20148 IDR'),\n",
       " ('12/22/2020', 'Tuesday', '14,164.98134 IDR'),\n",
       " ('12/23/2020', 'Wednesday', '14,183.64082 IDR'),\n",
       " ('12/24/2020', 'Thursday', '14,188.41293 IDR'),\n",
       " ('12/25/2020', 'Friday', '14,211.65343 IDR'),\n",
       " ('12/28/2020', 'Monday', '14,139.81753 IDR'),\n",
       " ('12/29/2020', 'Tuesday', '14,108.18177 IDR'),\n",
       " ('12/30/2020', 'Wednesday', '14,020.01350 IDR'),\n",
       " ('12/31/2020', 'Thursday', '14,120.57461 IDR'),\n",
       " ('1/1/2021', 'Friday', '14,213.67526 IDR'),\n",
       " ('1/4/2021', 'Monday', '14,015.86887 IDR'),\n",
       " ('1/5/2021', 'Tuesday', '13,906.05686 IDR'),\n",
       " ('1/6/2021', 'Wednesday', '13,861.51463 IDR'),\n",
       " ('1/7/2021', 'Thursday', '13,905.64377 IDR'),\n",
       " ('1/8/2021', 'Friday', '13,991.16348 IDR'),\n",
       " ('1/11/2021', 'Monday', '14,137.24151 IDR'),\n",
       " ('1/12/2021', 'Tuesday', '14,074.81444 IDR'),\n",
       " ('1/13/2021', 'Wednesday', '14,125.90174 IDR'),\n",
       " ('1/14/2021', 'Thursday', '14,070.58746 IDR'),\n",
       " ('1/15/2021', 'Friday', '14,153.46654 IDR'),\n",
       " ('1/18/2021', 'Monday', '14,055.43768 IDR'),\n",
       " ('1/19/2021', 'Tuesday', '14,063.60877 IDR'),\n",
       " ('1/20/2021', 'Wednesday', '14,021.43046 IDR'),\n",
       " ('1/21/2021', 'Thursday', '13,964.91920 IDR'),\n",
       " ('1/22/2021', 'Friday', '14,025.60268 IDR'),\n",
       " ('1/25/2021', 'Monday', '14,021.11609 IDR'),\n",
       " ('1/26/2021', 'Tuesday', '14,062.91108 IDR'),\n",
       " ('1/27/2021', 'Wednesday', '14,048.72649 IDR'),\n",
       " ('1/28/2021', 'Thursday', '14,048.06146 IDR'),\n",
       " ('1/29/2021', 'Friday', '14,027.32457 IDR'),\n",
       " ('2/1/2021', 'Monday', '14,025.27450 IDR'),\n",
       " ('2/2/2021', 'Tuesday', '14,004.60175 IDR'),\n",
       " ('2/3/2021', 'Wednesday', '13,997.60682 IDR'),\n",
       " ('2/4/2021', 'Thursday', '14,020.87878 IDR'),\n",
       " ('2/5/2021', 'Friday', '14,008.99630 IDR'),\n",
       " ('2/8/2021', 'Monday', '14,007.25257 IDR'),\n",
       " ('2/9/2021', 'Tuesday', '13,920.52018 IDR'),\n",
       " ('2/10/2021', 'Wednesday', '13,994.09212 IDR'),\n",
       " ('2/11/2021', 'Thursday', '13,982.27900 IDR'),\n",
       " ('2/12/2021', 'Friday', '13,988.54710 IDR'),\n",
       " ('2/15/2021', 'Monday', '13,918.18725 IDR'),\n",
       " ('2/16/2021', 'Tuesday', '13,935.96629 IDR'),\n",
       " ('2/17/2021', 'Wednesday', '14,015.16095 IDR'),\n",
       " ('2/18/2021', 'Thursday', '14,013.51318 IDR'),\n",
       " ('2/19/2021', 'Friday', '14,066.79375 IDR'),\n",
       " ('2/22/2021', 'Monday', '14,118.07274 IDR'),\n",
       " ('2/23/2021', 'Tuesday', '14,092.64503 IDR'),\n",
       " ('2/24/2021', 'Wednesday', '14,083.03673 IDR'),\n",
       " ('2/25/2021', 'Thursday', '14,139.73096 IDR'),\n",
       " ('2/26/2021', 'Friday', '14,300.27815 IDR'),\n",
       " ('3/1/2021', 'Monday', '14,248.60576 IDR'),\n",
       " ('3/2/2021', 'Tuesday', '14,256.28041 IDR'),\n",
       " ('3/3/2021', 'Wednesday', '14,257.29443 IDR'),\n",
       " ('3/4/2021', 'Thursday', '14,261.85426 IDR')]"
      ]
     },
     "execution_count": 81,
     "metadata": {},
     "output_type": "execute_result"
    }
   ],
   "source": [
    "temp = temp [::-1]\n",
    "temp"
   ]
  },
  {
   "cell_type": "markdown",
   "metadata": {},
   "source": [
    "## Creating data frame & Data wrangling"
   ]
  },
  {
   "cell_type": "markdown",
   "metadata": {},
   "source": [
    "Put the array into dataframe"
   ]
  },
  {
   "cell_type": "code",
   "execution_count": 82,
   "metadata": {
    "ExecuteTime": {
     "end_time": "2020-01-13T05:12:41.517372Z",
     "start_time": "2020-01-13T05:12:29.130015Z"
    }
   },
   "outputs": [
    {
     "data": {
      "text/html": [
       "<div>\n",
       "<style scoped>\n",
       "    .dataframe tbody tr th:only-of-type {\n",
       "        vertical-align: middle;\n",
       "    }\n",
       "\n",
       "    .dataframe tbody tr th {\n",
       "        vertical-align: top;\n",
       "    }\n",
       "\n",
       "    .dataframe thead th {\n",
       "        text-align: right;\n",
       "    }\n",
       "</style>\n",
       "<table border=\"1\" class=\"dataframe\">\n",
       "  <thead>\n",
       "    <tr style=\"text-align: right;\">\n",
       "      <th></th>\n",
       "      <th>date</th>\n",
       "      <th>day</th>\n",
       "      <th>value</th>\n",
       "    </tr>\n",
       "  </thead>\n",
       "  <tbody>\n",
       "    <tr>\n",
       "      <th>0</th>\n",
       "      <td>9/6/2020</td>\n",
       "      <td>Sunday</td>\n",
       "      <td>14,754.95155 IDR</td>\n",
       "    </tr>\n",
       "    <tr>\n",
       "      <th>1</th>\n",
       "      <td>9/7/2020</td>\n",
       "      <td>Monday</td>\n",
       "      <td>14,743.92989 IDR</td>\n",
       "    </tr>\n",
       "    <tr>\n",
       "      <th>2</th>\n",
       "      <td>9/8/2020</td>\n",
       "      <td>Tuesday</td>\n",
       "      <td>14,839.54267 IDR</td>\n",
       "    </tr>\n",
       "    <tr>\n",
       "      <th>3</th>\n",
       "      <td>9/9/2020</td>\n",
       "      <td>Wednesday</td>\n",
       "      <td>14,783.50009 IDR</td>\n",
       "    </tr>\n",
       "    <tr>\n",
       "      <th>4</th>\n",
       "      <td>9/10/2020</td>\n",
       "      <td>Thursday</td>\n",
       "      <td>14,871.58664 IDR</td>\n",
       "    </tr>\n",
       "  </tbody>\n",
       "</table>\n",
       "</div>"
      ],
      "text/plain": [
       "        date        day             value\n",
       "0   9/6/2020     Sunday  14,754.95155 IDR\n",
       "1   9/7/2020     Monday  14,743.92989 IDR\n",
       "2   9/8/2020    Tuesday  14,839.54267 IDR\n",
       "3   9/9/2020  Wednesday  14,783.50009 IDR\n",
       "4  9/10/2020   Thursday  14,871.58664 IDR"
      ]
     },
     "execution_count": 82,
     "metadata": {},
     "output_type": "execute_result"
    }
   ],
   "source": [
    "import pandas as pd\n",
    "\n",
    "df = pd.DataFrame(temp, columns = ('date', 'day', 'value'))\n",
    "df.head()"
   ]
  },
  {
   "cell_type": "markdown",
   "metadata": {},
   "source": [
    "Do the data cleaning here (please change this markdown with your explanation of what you do for data wrangling)"
   ]
  },
  {
   "cell_type": "code",
   "execution_count": 83,
   "metadata": {
    "ExecuteTime": {
     "end_time": "2020-01-13T05:12:59.165559Z",
     "start_time": "2020-01-13T05:12:58.910012Z"
    },
    "scrolled": true
   },
   "outputs": [
    {
     "data": {
      "text/html": [
       "<div>\n",
       "<style scoped>\n",
       "    .dataframe tbody tr th:only-of-type {\n",
       "        vertical-align: middle;\n",
       "    }\n",
       "\n",
       "    .dataframe tbody tr th {\n",
       "        vertical-align: top;\n",
       "    }\n",
       "\n",
       "    .dataframe thead th {\n",
       "        text-align: right;\n",
       "    }\n",
       "</style>\n",
       "<table border=\"1\" class=\"dataframe\">\n",
       "  <thead>\n",
       "    <tr style=\"text-align: right;\">\n",
       "      <th></th>\n",
       "      <th>date</th>\n",
       "      <th>day</th>\n",
       "      <th>value</th>\n",
       "    </tr>\n",
       "  </thead>\n",
       "  <tbody>\n",
       "    <tr>\n",
       "      <th>0</th>\n",
       "      <td>9/6/2020</td>\n",
       "      <td>Sunday</td>\n",
       "      <td>14754.95155</td>\n",
       "    </tr>\n",
       "    <tr>\n",
       "      <th>1</th>\n",
       "      <td>9/7/2020</td>\n",
       "      <td>Monday</td>\n",
       "      <td>14743.92989</td>\n",
       "    </tr>\n",
       "    <tr>\n",
       "      <th>2</th>\n",
       "      <td>9/8/2020</td>\n",
       "      <td>Tuesday</td>\n",
       "      <td>14839.54267</td>\n",
       "    </tr>\n",
       "    <tr>\n",
       "      <th>3</th>\n",
       "      <td>9/9/2020</td>\n",
       "      <td>Wednesday</td>\n",
       "      <td>14783.50009</td>\n",
       "    </tr>\n",
       "    <tr>\n",
       "      <th>4</th>\n",
       "      <td>9/10/2020</td>\n",
       "      <td>Thursday</td>\n",
       "      <td>14871.58664</td>\n",
       "    </tr>\n",
       "  </tbody>\n",
       "</table>\n",
       "</div>"
      ],
      "text/plain": [
       "        date        day         value\n",
       "0   9/6/2020     Sunday  14754.95155 \n",
       "1   9/7/2020     Monday  14743.92989 \n",
       "2   9/8/2020    Tuesday  14839.54267 \n",
       "3   9/9/2020  Wednesday  14783.50009 \n",
       "4  9/10/2020   Thursday  14871.58664 "
      ]
     },
     "execution_count": 83,
     "metadata": {},
     "output_type": "execute_result"
    }
   ],
   "source": [
    "#Deleting IDR and comma\n",
    "df['value'] = df['value'].replace('IDR',\"\",regex=True).replace(',',\"\",regex=True)\n",
    "df.head()"
   ]
  },
  {
   "cell_type": "code",
   "execution_count": 84,
   "metadata": {},
   "outputs": [
    {
     "data": {
      "text/plain": [
       "date     object\n",
       "day      object\n",
       "value    object\n",
       "dtype: object"
      ]
     },
     "execution_count": 84,
     "metadata": {},
     "output_type": "execute_result"
    }
   ],
   "source": [
    "df.dtypes"
   ]
  },
  {
   "cell_type": "code",
   "execution_count": 85,
   "metadata": {
    "scrolled": true
   },
   "outputs": [
    {
     "data": {
      "text/plain": [
       "date     datetime64[ns]\n",
       "day              object\n",
       "value           float64\n",
       "dtype: object"
      ]
     },
     "execution_count": 85,
     "metadata": {},
     "output_type": "execute_result"
    }
   ],
   "source": [
    "#Changing type of data\n",
    "df['value'] = df['value'].astype('float64')\n",
    "df['date'] = df['date'].astype('datetime64')\n",
    "df.dtypes"
   ]
  },
  {
   "cell_type": "code",
   "execution_count": 86,
   "metadata": {
    "scrolled": false
   },
   "outputs": [],
   "source": [
    "#set date as index\n",
    "df.set_index('date', inplace=True)"
   ]
  },
  {
   "cell_type": "code",
   "execution_count": 89,
   "metadata": {},
   "outputs": [
    {
     "data": {
      "text/html": [
       "<div>\n",
       "<style scoped>\n",
       "    .dataframe tbody tr th:only-of-type {\n",
       "        vertical-align: middle;\n",
       "    }\n",
       "\n",
       "    .dataframe tbody tr th {\n",
       "        vertical-align: top;\n",
       "    }\n",
       "\n",
       "    .dataframe thead th {\n",
       "        text-align: right;\n",
       "    }\n",
       "</style>\n",
       "<table border=\"1\" class=\"dataframe\">\n",
       "  <thead>\n",
       "    <tr style=\"text-align: right;\">\n",
       "      <th></th>\n",
       "      <th>day</th>\n",
       "      <th>value</th>\n",
       "    </tr>\n",
       "    <tr>\n",
       "      <th>date</th>\n",
       "      <th></th>\n",
       "      <th></th>\n",
       "    </tr>\n",
       "  </thead>\n",
       "  <tbody>\n",
       "    <tr>\n",
       "      <th>2020-09-06</th>\n",
       "      <td>Sunday</td>\n",
       "      <td>14754.95155</td>\n",
       "    </tr>\n",
       "    <tr>\n",
       "      <th>2020-09-07</th>\n",
       "      <td>Monday</td>\n",
       "      <td>14743.92989</td>\n",
       "    </tr>\n",
       "    <tr>\n",
       "      <th>2020-09-08</th>\n",
       "      <td>Tuesday</td>\n",
       "      <td>14839.54267</td>\n",
       "    </tr>\n",
       "    <tr>\n",
       "      <th>2020-09-09</th>\n",
       "      <td>Wednesday</td>\n",
       "      <td>14783.50009</td>\n",
       "    </tr>\n",
       "    <tr>\n",
       "      <th>2020-09-10</th>\n",
       "      <td>Thursday</td>\n",
       "      <td>14871.58664</td>\n",
       "    </tr>\n",
       "  </tbody>\n",
       "</table>\n",
       "</div>"
      ],
      "text/plain": [
       "                  day        value\n",
       "date                              \n",
       "2020-09-06     Sunday  14754.95155\n",
       "2020-09-07     Monday  14743.92989\n",
       "2020-09-08    Tuesday  14839.54267\n",
       "2020-09-09  Wednesday  14783.50009\n",
       "2020-09-10   Thursday  14871.58664"
      ]
     },
     "execution_count": 89,
     "metadata": {},
     "output_type": "execute_result"
    }
   ],
   "source": [
    "df.head()"
   ]
  },
  {
   "cell_type": "code",
   "execution_count": 88,
   "metadata": {},
   "outputs": [
    {
     "data": {
      "text/plain": [
       "<AxesSubplot:xlabel='date'>"
      ]
     },
     "execution_count": 88,
     "metadata": {},
     "output_type": "execute_result"
    },
    {
     "data": {
      "image/png": "[encoded data removed]",
      "text/plain": [
       "<Figure size 432x288 with 1 Axes>"
      ]
     },
     "metadata": {
      "needs_background": "light"
     },
     "output_type": "display_data"
    }
   ],
   "source": [
    "df.plot(kind='line')"
   ]
  },
  {
   "cell_type": "markdown",
   "metadata": {},
   "source": [
    "### Implementing your webscrapping to the flask dashboard\n",
    "\n",
    "- Copy paste all of your web scrapping process to the desired position on the `app.py`\n",
    "- Changing the title of the dasboard at `index.html`"
   ]
  },
  {
   "cell_type": "markdown",
   "metadata": {},
   "source": [
    "## Finishing This Notebook with Your Analysis and Conclusion\n",
    "\n",
    "First you can do start with making the data visualisation. "
   ]
  },
  {
   "cell_type": "markdown",
   "metadata": {
    "ExecuteTime": {
     "end_time": "2020-01-13T05:20:56.208237Z",
     "start_time": "2020-01-13T05:20:56.076043Z"
    }
   },
   "source": [
    "Analysis :\n",
    "- At the end of October to early November dollar went bearish from 14600 to 14200, approximately 400 points.\n",
    "- Dollar went sideways at November 20 until January 21, but at the end of January it went below 14000 (the lowest).\n",
    "- Dollar went bullish at the end of March more than 300 points, it happened at mid of March until early April. \n",
    "- April is the highest of dollar value after down for 6 months. "
   ]
  },
  {
   "cell_type": "markdown",
   "metadata": {},
   "source": [
    "\n",
    "(Put your analysis and conclusion here.)"
   ]
  },
  {
   "cell_type": "markdown",
   "metadata": {},
   "source": [
    "### Extra Challange\n",
    "\n",
    "This will be not included to the scoring. \n",
    "\n",
    "- You can create additional analysis from the data.\n",
    "- Implement it to the dashboard with at `app.py` dan `index.html`."
   ]
  }
 ],
 "metadata": {
  "kernelspec": {
   "display_name": "Python 3",
   "language": "python",
   "name": "python3"
  },
  "language_info": {
   "codemirror_mode": {
    "name": "ipython",
    "version": 3
   },
   "file_extension": ".py",
   "mimetype": "text/x-python",
   "name": "python",
   "nbconvert_exporter": "python",
   "pygments_lexer": "ipython3",
   "version": "3.8.5"
  }
 },
 "nbformat": 4,
 "nbformat_minor": 2
}
